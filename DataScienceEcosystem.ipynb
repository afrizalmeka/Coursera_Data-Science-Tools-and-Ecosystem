{
 "cells": [
  {
   "cell_type": "markdown",
   "id": "68aa3308-b44a-43a8-a684-b9575827cddd",
   "metadata": {
    "tags": []
   },
   "source": [
    "# Data Science Tools and Ecosystem"
   ]
  },
  {
   "cell_type": "markdown",
   "id": "c47bcfd0-45f3-4cc8-8131-d2ed114a18d4",
   "metadata": {},
   "source": [
    "In this notebook, Data Science Tools and Ecosystem are summarized."
   ]
  },
  {
   "cell_type": "markdown",
   "id": "095577d7-f899-423a-b65b-3740a8e67d1a",
   "metadata": {},
   "source": [
    "Some of the popular languages that Data Scientists use are:\n",
    "1. Python\n",
    "2. R\n",
    "3. SQL\n",
    "4. JavaScript\n",
    "5. C/C++"
   ]
  },
  {
   "cell_type": "markdown",
   "id": "20d2c108-008a-437f-8981-c1d7f5a64b45",
   "metadata": {},
   "source": [
    "### Data Science Libraries\n",
    "- NumPy\n",
    "- Pandas\n",
    "- Matplotlib"
   ]
  },
  {
   "cell_type": "markdown",
   "id": "a4af6101-cf9c-4a69-befa-0a699596f07d",
   "metadata": {
    "tags": []
   },
   "source": [
    "### Data Science Tools\n",
    "\n",
    "| Category         | Tools           |\n",
    "|------------------|-----------------|\n",
    "| Data Manipulation| Pandas, SQL     |\n",
    "| Data Visualization| Matplotlib, Seaborn |\n",
    "| Machine Learning | Scikit-learn, TensorFlow |\n"
   ]
  },
  {
   "cell_type": "markdown",
   "id": "8c4fbf25-ed95-44f6-90ce-95bd3d4f31d2",
   "metadata": {},
   "source": [
    "## Arithmetic Expression Examples"
   ]
  },
  {
   "cell_type": "code",
   "execution_count": 11,
   "id": "354c22d0-452b-47da-8a12-6ccc8cbccc1a",
   "metadata": {},
   "outputs": [
    {
     "name": "stdout",
     "output_type": "stream",
     "text": [
      "multiplication result :  50\n",
      "addition result :  15\n"
     ]
    }
   ],
   "source": [
    "# Multiply and Add Numbers\n",
    "a = 5\n",
    "b = 10\n",
    "multiply_result = a * b\n",
    "add_result = a + b\n",
    "\n",
    "print(\"multiplication result : \", multiply_result)\n",
    "print(\"addition result : \", add_result)"
   ]
  },
  {
   "cell_type": "code",
   "execution_count": 9,
   "id": "676b4fdf-26d0-4555-8f85-ac10ce5c8497",
   "metadata": {},
   "outputs": [
    {
     "data": {
      "text/plain": [
       "3.0"
      ]
     },
     "execution_count": 9,
     "metadata": {},
     "output_type": "execute_result"
    }
   ],
   "source": [
    "# Convert Minutes to Hours\n",
    "minutes = 180\n",
    "hours = minutes / 60\n",
    "hours"
   ]
  },
  {
   "cell_type": "markdown",
   "id": "9f52c4a5-d26c-4590-916a-0fb0d6e72f60",
   "metadata": {},
   "source": [
    "## Objectives\n",
    "\n",
    "- Understand the basics of markdown cells in Jupyter Notebook.\n",
    "- Familiarize yourself with data science languages and their usage.\n",
    "- Explore commonly used data science libraries and their functionalities.\n",
    "- Learn about various data science tools and their applications.\n",
    "- Perform arithmetic operations using Python.\n",
    "- Convert minutes to hours using Python code.\n",
    "- Gain hands-on experience in creating and executing code cells.\n",
    "- Develop a better understanding of Jupyter Notebook and its capabilities.\n",
    "- Enhance your skills in data analysis and visualization.\n",
    "- Practice effective communication and presentation of findings.\n"
   ]
  },
  {
   "cell_type": "markdown",
   "id": "f7cb74fb-072f-4c2b-9e44-2ea4e038a36a",
   "metadata": {},
   "source": [
    "**Author: Afrizal Meka Mulyana**"
   ]
  },
  {
   "cell_type": "code",
   "execution_count": null,
   "id": "0f56fa04-875e-45ae-a92e-baf09d54c96f",
   "metadata": {},
   "outputs": [],
   "source": []
  }
 ],
 "metadata": {
  "kernelspec": {
   "display_name": "Python 3 (ipykernel)",
   "language": "python",
   "name": "python3"
  },
  "language_info": {
   "codemirror_mode": {
    "name": "ipython",
    "version": 3
   },
   "file_extension": ".py",
   "mimetype": "text/x-python",
   "name": "python",
   "nbconvert_exporter": "python",
   "pygments_lexer": "ipython3",
   "version": "3.9.12"
  }
 },
 "nbformat": 4,
 "nbformat_minor": 5
}
